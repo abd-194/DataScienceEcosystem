{
 "cells": [
  {
   "cell_type": "markdown",
   "id": "18b3fe56-71f0-463c-99be-eed340d3f36b",
   "metadata": {},
   "source": [
    "# **Data Science Tools and Ecosystem**"
   ]
  },
  {
   "cell_type": "markdown",
   "id": "7ce45037-2fcb-410f-a0d8-385e6c16e715",
   "metadata": {},
   "source": [
    "In this notebook, Data Science tools and Ecosystem are summarized. We will explore some of the popular tools used in Data Science and practice arithmetic expressions using Python. \n",
    "\n",
    "Let's get started!\n",
    "\n",
    "---\n",
    "\n"
   ]
  },
  {
   "cell_type": "markdown",
   "id": "795500fc-235c-4e0e-b6f1-40d08bb52be2",
   "metadata": {},
   "source": [
    "## Data Science Languages\n",
    "Some of the popular languages that Data Scientists use are:\n",
    "1. Python\n",
    "2. R\n",
    "3. SQL\n",
    "4. SAS\n",
    "5. Julia\n",
    "\n",
    "---\n"
   ]
  },
  {
   "cell_type": "markdown",
   "id": "fd570ed9-9662-45ac-a55b-767f0b11c8f7",
   "metadata": {},
   "source": [
    "## Data Science Libraries\n",
    "Some of the commonly used libraries used by Data Scientists include:\n",
    "\n",
    "1. NumPy\n",
    "2. Pandas\n",
    "3. Matplotlib\n",
    "4. Seaborn\n",
    "5. Scikit-learn\n",
    "\n",
    "---\n"
   ]
  },
  {
   "cell_type": "markdown",
   "id": "5630526b-d0b4-4e18-b406-2b8f0d45203c",
   "metadata": {},
   "source": [
    "## Data Science Tools\n",
    "\n",
    "| Tool           | Description                                                                  |\n",
    "|----------------|------------------------------------------------------------------------------|\n",
    "| Jupyter Notebook| An open-source web application that allows you to create and share documents that contain live code, equations, visualizations, and narrative text. |\n",
    "| Anaconda       | A distribution of Python and R programming languages for scientific computing, that aims to simplify package management and deployment. |\n",
    "| Tableau        | A data visualization tool that allows you to analyze and share large datasets. |\n",
    "| Power BI       | A business analytics service provided by Microsoft that provides interactive visualizations and business intelligence capabilities with an interface simple enough for end users to create their reports and dashboards. |\n",
    "\n",
    "---\n"
   ]
  },
  {
   "cell_type": "markdown",
   "id": "3b431951-e50b-4bbe-96a0-694ba3991e32",
   "metadata": {},
   "source": [
    "## Arithmetic Expressions\n",
    "\n",
    "In programming, arithmetic expressions are used to perform mathematical operations such as addition, subtraction, multiplication, and division. Let's take a look at some examples.\n",
    "\n",
    "---\n"
   ]
  },
  {
   "cell_type": "code",
   "execution_count": 6,
   "id": "018f35a1-6f5f-4a61-8330-772df1090226",
   "metadata": {},
   "outputs": [
    {
     "name": "stdout",
     "output_type": "stream",
     "text": [
      "17\n"
     ]
    }
   ],
   "source": [
    "# This is a simple arithmetic expression to multiply then add integers.\n",
    "a = 3\n",
    "b = 4\n",
    "c = a * b + 5\n",
    "print(c)"
   ]
  },
  {
   "cell_type": "code",
   "execution_count": 7,
   "id": "20c9bdb1-ba3d-49e0-8e0c-c2ccdd37b70d",
   "metadata": {},
   "outputs": [
    {
     "name": "stdout",
     "output_type": "stream",
     "text": [
      "3.3333333333333335\n"
     ]
    }
   ],
   "source": [
    "# This will convert 200 minutes to hours by dividing by 60\n",
    "minutes = 200\n",
    "hours = minutes / 60\n",
    "print(hours)"
   ]
  },
  {
   "cell_type": "markdown",
   "id": "64eb7462-6ae8-46e7-8459-54c7031e8bb7",
   "metadata": {},
   "source": [
    "## **Objectives**\n",
    "\n",
    "The objectives of this notebook are:\n",
    "\n",
    "- Learn about popular Data Science tools and libraries.\n",
    "- Practice arithmetic expressions using Python.\n",
    "- Gain a better understanding of the data science workflow."
   ]
  },
  {
   "cell_type": "markdown",
   "id": "67640e48-01c8-49fb-b815-7e30d7869281",
   "metadata": {},
   "source": [
    "## **Author**\n",
    "Malik Abdul Basit"
   ]
  }
 ],
 "metadata": {
  "kernelspec": {
   "display_name": "Python",
   "language": "python",
   "name": "conda-env-python-py"
  },
  "language_info": {
   "codemirror_mode": {
    "name": "ipython",
    "version": 3
   },
   "file_extension": ".py",
   "mimetype": "text/x-python",
   "name": "python",
   "nbconvert_exporter": "python",
   "pygments_lexer": "ipython3",
   "version": "3.7.12"
  }
 },
 "nbformat": 4,
 "nbformat_minor": 5
}
